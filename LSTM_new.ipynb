{
 "cells": [
  {
   "cell_type": "code",
   "execution_count": null,
   "metadata": {
    "colab": {
     "base_uri": "https://localhost:8080/"
    },
    "id": "20dEDC6Ux8JQ",
    "outputId": "f126329f-492c-4601-ed89-f9431b46f097"
   },
   "outputs": [
    {
     "name": "stdout",
     "output_type": "stream",
     "text": [
      "Drive already mounted at /content/drive; to attempt to forcibly remount, call drive.mount(\"/content/drive\", force_remount=True).\n"
     ]
    }
   ],
   "source": [
    "from google.colab import drive\n",
    "drive.mount('/content/drive')"
   ]
  },
  {
   "cell_type": "code",
   "execution_count": null,
   "metadata": {
    "id": "4PbpwVmtyEjz"
   },
   "outputs": [],
   "source": [
    "import pandas as pd\n",
    "import os\n",
    "import numpy as np"
   ]
  },
  {
   "cell_type": "code",
   "execution_count": null,
   "metadata": {
    "id": "9lM7ndMQyNDD"
   },
   "outputs": [],
   "source": [
    "paths=\"/content/drive/MyDrive/balance\"\n",
    "X=[]\n",
    "Y=[]\n",
    "Z=[]\n",
    "for i in os.listdir(paths):\n",
    "    file_path=os.path.join(paths,i)\n",
    "    for x in os.listdir(file_path):\n",
    "        file=os.path.join(file_path,x)\n",
    "\n",
    "        if x==\"train_GGNNinput_9444_balanced_graph.json\":\n",
    "            kq1=pd.read_json(file)\n",
    "            X.append(kq1)\n",
    "        if x==\"test_GGNNinput_graph.json\":\n",
    "            kq2=pd.read_json(file)\n",
    "            Y.append(kq2)\n",
    "        if x==\"valid_GGNNinput_graph.json\":\n",
    "            kq3=pd.read_json(file)\n",
    "            Z.append(kq3)\n",
    "\n"
   ]
  },
  {
   "cell_type": "code",
   "execution_count": null,
   "metadata": {
    "id": "3whPlvxt-pQX"
   },
   "outputs": [],
   "source": [
    "train=pd.concat(X,axis=0)\n",
    "test=pd.concat(Y,axis=0)\n",
    "valid=pd.concat(Z,axis=0)\n",
    "train.reset_index(drop=True, inplace=True)\n",
    "test.reset_index(drop=True, inplace=True)\n",
    "valid.reset_index(drop=True, inplace=True)\n",
    "train[\"graph_feature\"]=train[\"graph_feature\"].apply(lambda x : np.array(x))\n",
    "test[\"graph_feature\"]=test[\"graph_feature\"].apply(lambda x : np.array(x))\n",
    "valid[\"graph_feature\"]=valid[\"graph_feature\"].apply(lambda x : np.array(x))"
   ]
  },
  {
   "cell_type": "code",
   "execution_count": null,
   "metadata": {
    "colab": {
     "base_uri": "https://localhost:8080/"
    },
    "id": "VVX02FESyr1j",
    "outputId": "0ca05954-a258-4297-cd3b-bdbb2cc47c48"
   },
   "outputs": [],
   "source": [
    "train[\"target\"][0:10]"
   ]
  },
  {
   "cell_type": "code",
   "execution_count": null,
   "metadata": {
    "id": "0U0OYhPD1viZ"
   },
   "outputs": [],
   "source": [
    "train[\"graph_feature\"]=train[\"graph_feature\"].apply(lambda x : x.reshape(20,10))\n",
    "test[\"graph_feature\"]=test[\"graph_feature\"].apply(lambda x : x.reshape(20,10))\n",
    "valid[\"graph_feature\"]=valid[\"graph_feature\"].apply(lambda x : x.reshape(20,10))\n"
   ]
  },
  {
   "cell_type": "code",
   "execution_count": null,
   "metadata": {
    "id": "dm7lA_V-d1_A"
   },
   "outputs": [],
   "source": [
    "x_train=train[\"graph_feature\"].to_numpy().tolist()\n",
    "x_train=np.array(x_train)\n",
    "x_test=test[\"graph_feature\"].to_numpy().tolist()\n",
    "x_test=np.array(x_test)\n",
    "x_valid=valid[\"graph_feature\"].to_numpy().tolist()\n",
    "x_valid=np.array(x_valid)"
   ]
  },
  {
   "cell_type": "code",
   "execution_count": null,
   "metadata": {
    "id": "TbAokXTfYgJl"
   },
   "outputs": [],
   "source": [
    "from keras.layers import LSTM, Dense,Dropout\n",
    "from keras.models import Sequential\n",
    "\n",
    "from sklearn.model_selection import train_test_split\n",
    "import random\n",
    "from keras.optimizers import Adam"
   ]
  },
  {
   "cell_type": "code",
   "execution_count": null,
   "metadata": {
    "id": "fNg9C41y1GcF"
   },
   "outputs": [],
   "source": [
    "model = Sequential()\n",
    "model.add(LSTM(units=256, return_sequences=True,input_shape=(x_train.shape[1],x_train.shape[2])))\n",
    "model.add(Dropout(0.2))\n",
    "model.add(LSTM(units=256, return_sequences=True))\n",
    "model.add(Dropout(0.2))\n",
    "\n",
    "model.add(LSTM(units=256))\n",
    "model.add(Dropout(0.2))\n",
    "\n",
    "model.add(Dense(units= 1, activation=\"sigmoid\"))\n",
    "\n",
    "learning_rate = 0.01\n",
    "optimizer = Adam(learning_rate=learning_rate) \n",
    "\n",
    "model.compile(optimizer=optimizer, metrics=['accuracy'], loss=\"binary_crossentropy\")"
   ]
  },
  {
   "cell_type": "code",
   "execution_count": null,
   "metadata": {
    "colab": {
     "base_uri": "https://localhost:8080/"
    },
    "id": "IVVXeNwyh-YE",
    "outputId": "9903ccda-f88b-49fd-d820-b586d5b0e5da"
   },
   "outputs": [],
   "source": [
    "model.fit(x_train,train[\"target\"], epochs=3, batch_size=64)"
   ]
  },
  {
   "cell_type": "code",
   "execution_count": null,
   "metadata": {
    "id": "u7e8KS2El6dG"
   },
   "outputs": [],
   "source": [
    "from sklearn.metrics import accuracy_score, precision_score, recall_score, f1_score"
   ]
  },
  {
   "cell_type": "code",
   "execution_count": null,
   "metadata": {
    "colab": {
     "base_uri": "https://localhost:8080/"
    },
    "id": "4Lk9ylUol8xP",
    "outputId": "a2ff182e-d900-4b2c-a693-e622406cf143"
   },
   "outputs": [],
   "source": [
    "predicted_labels = model.predict(x_test)"
   ]
  },
  {
   "cell_type": "code",
   "execution_count": null,
   "metadata": {
    "id": "r5s0ncIdmL2L"
   },
   "outputs": [],
   "source": [
    "predicted_labels = (predicted_labels > 0.5).astype(int)"
   ]
  },
  {
   "cell_type": "code",
   "execution_count": null,
   "metadata": {
    "id": "19I_y80hmR6T"
   },
   "outputs": [],
   "source": [
    "accuracy = accuracy_score(test[\"target\"], predicted_labels)\n",
    "precision = precision_score(test[\"target\"], predicted_labels)\n",
    "recall = recall_score(test[\"target\"], predicted_labels)\n",
    "f1 = f1_score(test[\"target\"], predicted_labels)"
   ]
  },
  {
   "cell_type": "code",
   "execution_count": null,
   "metadata": {
    "colab": {
     "base_uri": "https://localhost:8080/"
    },
    "id": "cCuZoSqLmgms",
    "outputId": "8c1692f8-046d-4fbb-98b6-9369d45b9878"
   },
   "outputs": [],
   "source": [
    "print(\"accuracy: \",accuracy)\n",
    "print(\"precision: \",precision)\n",
    "print(\"recall: \",recall)\n",
    "print(\"f1 :\",f1)"
   ]
  }
 ],
 "metadata": {
  "colab": {
   "provenance": []
  },
  "kernelspec": {
   "display_name": "Python 3",
   "name": "python3"
  },
  "language_info": {
   "name": "python"
  }
 },
 "nbformat": 4,
 "nbformat_minor": 0
}
