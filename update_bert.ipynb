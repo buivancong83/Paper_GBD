{
 "cells": [
  {
   "cell_type": "code",
   "execution_count": null,
   "metadata": {
    "colab": {
     "base_uri": "https://localhost:8080/"
    },
    "id": "8wAUxJHUWinC",
    "outputId": "48dbab6b-6df5-4474-b9c9-2e7728398c57"
   },
   "outputs": [
    {
     "name": "stdout",
     "output_type": "stream",
     "text": [
      "Mounted at /content/drive\n"
     ]
    }
   ],
   "source": [
    "from google.colab import drive\n",
    "drive.mount('/content/drive')"
   ]
  },
  {
   "cell_type": "code",
   "execution_count": null,
   "metadata": {
    "colab": {
     "base_uri": "https://localhost:8080/"
    },
    "id": "VOIw-3r-uOj5",
    "outputId": "57dfaa89-7ba7-4a7a-d3bf-12b36b6f434f"
   },
   "outputs": [],
   "source": [
    "!pip install -U \"tensorflow-text==2.13.*\""
   ]
  },
  {
   "cell_type": "code",
   "execution_count": null,
   "metadata": {
    "colab": {
     "base_uri": "https://localhost:8080/"
    },
    "id": "oXCtNnJzuP11",
    "outputId": "a96c23de-7d91-4888-ad6a-f48bd17bb64b"
   },
   "outputs": [],
   "source": [
    "!pip install tf-models-official"
   ]
  },
  {
   "cell_type": "code",
   "execution_count": null,
   "metadata": {
    "id": "gpjL89xmr12H"
   },
   "outputs": [],
   "source": [
    "import os\n",
    "\n",
    "\n",
    "import tensorflow as tf\n",
    "import tensorflow_hub as hub\n",
    "import tensorflow_text as text"
   ]
  },
  {
   "cell_type": "code",
   "execution_count": null,
   "metadata": {
    "id": "33jm2DhjW-5o"
   },
   "outputs": [],
   "source": [
    "import numpy as np\n",
    "import pandas as pd\n"
   ]
  },
  {
   "cell_type": "code",
   "execution_count": null,
   "metadata": {
    "id": "--sD7X33mH7w"
   },
   "outputs": [],
   "source": [
    "dir_path=\"/content/drive/MyDrive/New folder\""
   ]
  },
  {
   "cell_type": "code",
   "execution_count": null,
   "metadata": {
    "colab": {
     "base_uri": "https://localhost:8080/",
     "height": 246
    },
    "id": "ko3pANUnmKuB",
    "outputId": "e8946908-2518-4b34-a170-53e6db7f2e9e"
   },
   "outputs": [],
   "source": [
    "data=[]\n",
    "labels=[]\n",
    "for x in os.listdir(dir_path):\n",
    "  ten_tep=os.path.join(dir_path,x)\n",
    "  nhan=[]\n",
    "  nhan=x.split(\"_\")\n",
    "  nhan=nhan[1].split(\".c\")\n",
    "  with open(ten_tep, \"r\") as file:\n",
    "    noi_dung = file.read()\n",
    "    data.append(noi_dung)\n",
    "    labels.append(int(nhan[0]))\n"
   ]
  },
  {
   "cell_type": "code",
   "execution_count": null,
   "metadata": {
    "id": "XU8NXnHenIbW"
   },
   "outputs": [],
   "source": [
    "df=pd.DataFrame({\"data\":data,\"nhan\":labels})"
   ]
  },
  {
   "cell_type": "code",
   "execution_count": null,
   "metadata": {
    "id": "FAQzfeyCZtDm"
   },
   "outputs": [],
   "source": [
    "df.head(10)"
   ]
  },
  {
   "cell_type": "code",
   "execution_count": null,
   "metadata": {
    "id": "E4N_f0qFpgTZ"
   },
   "outputs": [],
   "source": [
    "bert_preprocess = hub.KerasLayer(\"https://tfhub.dev/tensorflow/bert_en_uncased_preprocess/3\")\n",
    "bert_encoder = hub.KerasLayer(\"https://tfhub.dev/tensorflow/bert_en_uncased_L-12_H-768_A-12/4\")"
   ]
  },
  {
   "cell_type": "code",
   "execution_count": null,
   "metadata": {
    "id": "2HdW6J1houMa"
   },
   "outputs": [],
   "source": [
    "from sklearn.model_selection import train_test_split\n",
    "\n",
    "X_train_val, X_test, y_train_val, y_test = train_test_split(df['data'],df['nhan'],test_size=0.2)\n",
    "X_train,X_val,y_train,y_val=train_test_split(X_train_val,y_train_val,test_size=0.2)"
   ]
  },
  {
   "cell_type": "code",
   "execution_count": null,
   "metadata": {
    "id": "tjNOPpy5pBmf"
   },
   "outputs": [],
   "source": [
    "len(X_train)"
   ]
  },
  {
   "cell_type": "code",
   "execution_count": null,
   "metadata": {
    "id": "YvCD5mQUpFIG"
   },
   "outputs": [],
   "source": [
    "y_train.value_counts()"
   ]
  },
  {
   "cell_type": "code",
   "execution_count": null,
   "metadata": {
    "id": "fly9xrBfvY1u"
   },
   "outputs": [],
   "source": [
    "text_input = tf.keras.layers.Input(shape=(), dtype=tf.string, name='text')\n",
    "preprocessed_text = bert_preprocess(text_input)\n",
    "outputs = bert_encoder(preprocessed_text)\n",
    "\n",
    "# Neural network layers\n",
    "hidden_layer = tf.keras.layers.Dense(64, activation='relu', name=\"hidden\")(outputs['pooled_output'])\n",
    "dropout_layer = tf.keras.layers.Dropout(0.1, name=\"dropout1\")(hidden_layer)\n",
    "hidden_layer = tf.keras.layers.Dense(32, activation='relu')(dropout_layer)\n",
    "dropout_layer = tf.keras.layers.Dropout(0.1, name=\"dropout2\")(hidden_layer)\n",
    "output_layer = tf.keras.layers.Dense(1, activation='sigmoid', name=\"output\")(dropout_layer)\n",
    "\n",
    "# Mô hình\n",
    "model = tf.keras.Model(inputs=[text_input], outputs=[output_layer])"
   ]
  },
  {
   "cell_type": "code",
   "execution_count": null,
   "metadata": {
    "id": "JpXBGb_ZvY8l"
   },
   "outputs": [],
   "source": [
    "model.summary()"
   ]
  },
  {
   "cell_type": "code",
   "execution_count": null,
   "metadata": {
    "id": "LvoVocRivc5e"
   },
   "outputs": [],
   "source": [
    "from official.nlp import optimization  # to create AdamW optimizer\n",
    "METRICS = [\n",
    "      tf.keras.metrics.BinaryAccuracy(name='accuracy'),\n",
    "      tf.keras.metrics.Precision(name='precision'),\n",
    "      tf.keras.metrics.Recall(name='recall')\n",
    "]\n",
    "# optimizera = tf.keras.optimizers.Adam(learning_rate=3e-5)\n",
    "epochs = 5\n",
    "steps_per_epoch = len(X_train)\n",
    "num_train_steps = steps_per_epoch * epochs\n",
    "num_warmup_steps = int(0.1*num_train_steps)\n",
    "\n",
    "init_lr = 3e-5\n",
    "optimizer = optimization.create_optimizer(init_lr=init_lr,\n",
    "                                          num_train_steps=num_train_steps,\n",
    "                                          num_warmup_steps=num_warmup_steps,\n",
    "                                          optimizer_type='adamw')\n",
    "model.compile(optimizer=optimizer,\n",
    "              loss='binary_crossentropy',\n",
    "              metrics=METRICS)"
   ]
  },
  {
   "cell_type": "code",
   "execution_count": null,
   "metadata": {
    "id": "4J0aC93RvjhN"
   },
   "outputs": [],
   "source": [
    "model.fit(X_train, y_train,validation_data=(X_val,y_val), epochs=epochs)"
   ]
  },
  {
   "cell_type": "code",
   "execution_count": null,
   "metadata": {
    "id": "TDFZa6_aZmIX"
   },
   "outputs": [],
   "source": [
    "model.evaluate(X_test, y_test)"
   ]
  },
  {
   "cell_type": "code",
   "execution_count": null,
   "metadata": {
    "id": "SSdAy5XwZq1o"
   },
   "outputs": [],
   "source": [
    "y_predicted = model.predict(X_test)\n",
    "y_predicted = y_predicted.flatten()"
   ]
  },
  {
   "cell_type": "code",
   "execution_count": null,
   "metadata": {
    "id": "XF79KU4PZutJ"
   },
   "outputs": [],
   "source": [
    "import numpy as np\n",
    "\n",
    "y_predicted = np.where(y_predicted > 0.5, 1, 0)\n",
    "y_predicted"
   ]
  },
  {
   "cell_type": "code",
   "execution_count": null,
   "metadata": {
    "id": "OoCa6Kx6ZzCj"
   },
   "outputs": [],
   "source": [
    "from sklearn.metrics import confusion_matrix, classification_report\n",
    "\n",
    "cm = confusion_matrix(y_test, y_predicted)\n"
   ]
  },
  {
   "cell_type": "code",
   "execution_count": null,
   "metadata": {
    "id": "ovgIDEXoZ3sq"
   },
   "outputs": [],
   "source": [
    "from matplotlib import pyplot as plt\n",
    "import seaborn as sn\n",
    "sn.heatmap(cm, annot=True, fmt='d')\n",
    "plt.xlabel('Predicted')\n",
    "plt.ylabel('Truth')"
   ]
  }
 ],
 "metadata": {
  "colab": {
   "provenance": []
  },
  "kernelspec": {
   "display_name": "Python 3",
   "name": "python3"
  },
  "language_info": {
   "name": "python"
  }
 },
 "nbformat": 4,
 "nbformat_minor": 0
}
