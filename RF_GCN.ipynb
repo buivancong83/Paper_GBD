{
 "cells": [
  {
   "cell_type": "code",
   "execution_count": null,
   "metadata": {
    "colab": {
     "base_uri": "https://localhost:8080/"
    },
    "id": "6XkHKlbEkQPq",
    "outputId": "eea61646-f7f4-418f-a950-802fc0778b95"
   },
   "outputs": [
    {
     "name": "stdout",
     "output_type": "stream",
     "text": [
      "Mounted at /content/drive\n"
     ]
    }
   ],
   "source": [
    "from google.colab import drive\n",
    "drive.mount('/content/drive')"
   ]
  },
  {
   "cell_type": "code",
   "execution_count": null,
   "metadata": {
    "colab": {
     "base_uri": "https://localhost:8080/"
    },
    "id": "Cg2mYT0ekf66",
    "outputId": "9cba62fe-3d6e-4a4d-8662-fa4bccda4739"
   },
   "outputs": [
    {
     "name": "stdout",
     "output_type": "stream",
     "text": [
      "Collecting torch_geometric\n",
      "  Downloading torch_geometric-2.3.1.tar.gz (661 kB)\n",
      "\u001b[2K     \u001b[90m━━━━━━━━━━━━━━━━━━━━━━━━━━━━━━━━━━━━━━━\u001b[0m \u001b[32m661.6/661.6 kB\u001b[0m \u001b[31m6.9 MB/s\u001b[0m eta \u001b[36m0:00:00\u001b[0m\n",
      "\u001b[?25h  Installing build dependencies ... \u001b[?25l\u001b[?25hdone\n",
      "  Getting requirements to build wheel ... \u001b[?25l\u001b[?25hdone\n",
      "  Preparing metadata (pyproject.toml) ... \u001b[?25l\u001b[?25hdone\n",
      "Requirement already satisfied: tqdm in /usr/local/lib/python3.10/dist-packages (from torch_geometric) (4.66.0)\n",
      "Requirement already satisfied: numpy in /usr/local/lib/python3.10/dist-packages (from torch_geometric) (1.23.5)\n",
      "Requirement already satisfied: scipy in /usr/local/lib/python3.10/dist-packages (from torch_geometric) (1.10.1)\n",
      "Requirement already satisfied: jinja2 in /usr/local/lib/python3.10/dist-packages (from torch_geometric) (3.1.2)\n",
      "Requirement already satisfied: requests in /usr/local/lib/python3.10/dist-packages (from torch_geometric) (2.31.0)\n",
      "Requirement already satisfied: pyparsing in /usr/local/lib/python3.10/dist-packages (from torch_geometric) (3.1.1)\n",
      "Requirement already satisfied: scikit-learn in /usr/local/lib/python3.10/dist-packages (from torch_geometric) (1.2.2)\n",
      "Requirement already satisfied: psutil>=5.8.0 in /usr/local/lib/python3.10/dist-packages (from torch_geometric) (5.9.5)\n",
      "Requirement already satisfied: MarkupSafe>=2.0 in /usr/local/lib/python3.10/dist-packages (from jinja2->torch_geometric) (2.1.3)\n",
      "Requirement already satisfied: charset-normalizer<4,>=2 in /usr/local/lib/python3.10/dist-packages (from requests->torch_geometric) (3.2.0)\n",
      "Requirement already satisfied: idna<4,>=2.5 in /usr/local/lib/python3.10/dist-packages (from requests->torch_geometric) (3.4)\n",
      "Requirement already satisfied: urllib3<3,>=1.21.1 in /usr/local/lib/python3.10/dist-packages (from requests->torch_geometric) (2.0.4)\n",
      "Requirement already satisfied: certifi>=2017.4.17 in /usr/local/lib/python3.10/dist-packages (from requests->torch_geometric) (2023.7.22)\n",
      "Requirement already satisfied: joblib>=1.1.1 in /usr/local/lib/python3.10/dist-packages (from scikit-learn->torch_geometric) (1.3.2)\n",
      "Requirement already satisfied: threadpoolctl>=2.0.0 in /usr/local/lib/python3.10/dist-packages (from scikit-learn->torch_geometric) (3.2.0)\n",
      "Building wheels for collected packages: torch_geometric\n",
      "  Building wheel for torch_geometric (pyproject.toml) ... \u001b[?25l\u001b[?25hdone\n",
      "  Created wheel for torch_geometric: filename=torch_geometric-2.3.1-py3-none-any.whl size=910454 sha256=053accda7872727d90c945800ed05143ddaeaec22a7720b83cf46a5b6d69e501\n",
      "  Stored in directory: /root/.cache/pip/wheels/ac/dc/30/e2874821ff308ee67dcd7a66dbde912411e19e35a1addda028\n",
      "Successfully built torch_geometric\n",
      "Installing collected packages: torch_geometric\n",
      "Successfully installed torch_geometric-2.3.1\n"
     ]
    }
   ],
   "source": [
    "!pip install torch_geometric"
   ]
  },
  {
   "cell_type": "code",
   "execution_count": null,
   "metadata": {
    "id": "P2NXmLpjrl-8"
   },
   "outputs": [],
   "source": [
    "import pickle\n",
    "from sklearn.ensemble import RandomForestClassifier\n",
    "from sklearn.metrics import accuracy_score\n",
    "import numpy as np\n",
    "import pandas as pd\n",
    "import torch\n",
    "import torch.nn as nn\n",
    "import numpy as np\n",
    "import networkx as nx\n",
    "from torch_geometric.data import Data\n",
    "from torch_geometric.nn import GCNConv\n",
    "from torch_geometric.utils.convert import from_networkx"
   ]
  },
  {
   "cell_type": "code",
   "execution_count": null,
   "metadata": {
    "id": "r-la3VXHrqPR"
   },
   "outputs": [],
   "source": [
    "def load_dataset():\n",
    "    X_test = pickle.load(open(\"/content/drive/MyDrive/X_test.npy\", \"rb\"))\n",
    "    y_test = pickle.load(open(\"/content/drive/MyDrive/y_test.npy\", \"rb\"))\n",
    "    X_train = pickle.load(open(\"/content/drive/MyDrive/X_train.npy\", \"rb\"))\n",
    "    y_train = pickle.load(open(\"/content/drive/MyDrive/y_train.npy\", \"rb\"))\n",
    "\n",
    "    y_train = y_train.argmax(axis=1)\n",
    "    y_test = y_test.argmax(axis=1)\n",
    "\n",
    "    return X_test, y_test, X_train, y_train\n",
    "X_test, y_test, X_train, y_train = load_dataset()"
   ]
  },
  {
   "cell_type": "code",
   "execution_count": null,
   "metadata": {
    "colab": {
     "background_save": true,
     "base_uri": "https://localhost:8080/"
    },
    "id": "SvZwtAmacd4U",
    "outputId": "04842d4f-5827-4140-ff72-a42411e58fa8"
   },
   "outputs": [
    {
     "name": "stdout",
     "output_type": "stream",
     "text": [
      "(12718, 112, 112, 1)\n",
      "(12718, 112, 134)\n",
      "(12718, 112, 112)\n",
      "[ 3082  1079  7741 ... 10224  9892   581]\n"
     ]
    }
   ],
   "source": [
    "from torch_geometric.sampler.utils import Y\n",
    "from numpy.lib.index_tricks import IndexExpression\n",
    "import random\n",
    "\n",
    "class GCNFeatureExtractor(nn.Module):\n",
    "    def __init__(self, num_features, hidden_channels):\n",
    "        super(GCNFeatureExtractor, self).__init__()\n",
    "        self.conv1 = GCNConv(num_features, hidden_channels)\n",
    "        self.conv2 = GCNConv(hidden_channels, hidden_channels)\n",
    "\n",
    "    def forward(self, x, edge_index):\n",
    "        x = self.conv1(x, edge_index)\n",
    "        x = torch.relu(x)\n",
    "        x = self.conv2(x, edge_index)\n",
    "        return x\n",
    "\n",
    "\n",
    "\n",
    "def xuat_dac_trung(matrices):\n",
    "  features_list = []\n",
    "\n",
    "  for matrix in matrices:\n",
    "      num_rows = matrix.shape[0]  \n",
    "      num_cols = matrix.shape[1] \n",
    "\n",
    "      graph = nx.Graph()  \n",
    "      graph.add_nodes_from(range(num_rows + num_cols))  \n",
    "\n",
    "      \n",
    "      for i in range(num_rows):\n",
    "          for j in range(num_cols):\n",
    "              graph.add_edge(i, num_rows + j)\n",
    "\n",
    "      data = from_networkx(graph)\n",
    "      edge_index = data.edge_index\n",
    "      x = torch.tensor(matrix, dtype=torch.float32)\n",
    "      x = x.view(-1, 1)  \n",
    "      feature_extractor = GCNFeatureExtractor(1, hidden_channels=3)  \n",
    "      features = feature_extractor(x, edge_index)\n",
    "      avg_feature = torch.mean(features)\n",
    "      features_list.append(avg_feature.item())\n",
    "  return features_list\n",
    "\n",
    "def xuly(X):\n",
    "  # đổi X[0] từ ma trận 4 sang 3\n",
    "  X[0]= X[0].reshape(X[0].shape[0], X[0].shape[1],-1)\n",
    "\n",
    "  X[1]=xuat_dac_trung(X[1])\n",
    "  X[0]=xuat_dac_trung(X[0])\n",
    "  X[2]=xuat_dac_trung(X[2])\n",
    " \n",
    "  X=np.array(X)\n",
    "  return X\n",
    "\n",
    "\n",
    "def  can_bang(X_train,y_train):\n",
    "  index = np.where(y_train == 1)[0]  # Lấy các vị trí có nhãn 1\n",
    "  index1 = np.where(y_train == 0)[0]  # Lấy các vị trí có nhãn 0\n",
    "  # print(index,index1)\n",
    "  index1 = random.sample(index1.tolist(), len(index)+9999)  # Lấy ngẫu nhiên các vị trí có nhãn 0\n",
    "\n",
    "  combined_indices = np.concatenate((index, index1))\n",
    "  np.random.shuffle(combined_indices)\n",
    "  np.random.shuffle(combined_indices)\n",
    "  np.random.shuffle(combined_indices)\n",
    "  y_train=y_train[combined_indices]\n",
    "  print(combined_indices)\n",
    "  # print(y_train)\n",
    "  # print(combined_indices)\n",
    "  X_train[0]=X_train[0][combined_indices]\n",
    "  X_train[1]=X_train[1][combined_indices]\n",
    "  X_train[2]=X_train[2][combined_indices]\n",
    "  return X_train,y_train\n",
    "\n",
    "\n",
    "print(X_train[0].shape)\n",
    "print(X_train[1].shape)\n",
    "print(X_train[2].shape)\n",
    "X_train,y_train=can_bang(X_train,y_train)\n",
    "\n",
    "\n",
    "X_test=xuly(X_test)\n",
    "X_train=xuly(X_train)\n",
    "\n",
    "\n"
   ]
  },
  {
   "cell_type": "code",
   "execution_count": null,
   "metadata": {
    "id": "H8ZpZAHor06k"
   },
   "outputs": [],
   "source": [
    "data=pd.DataFrame({\n",
    "   \"cot-1\": X_train[0],\n",
    "   \"cot-2\" : X_train[1],\n",
    "   \"cot-3\": X_train[2],\n",
    "   \"ket_qua\": y_train\n",
    "   }\n",
    ")\n",
    "test=pd.DataFrame({\n",
    "   \"cot-1\": X_test[0],\n",
    "   \"cot-2\" : X_test[1],\n",
    "   \"cot-3\": X_test[2],\n",
    "   \"ket_qua\": y_test\n",
    "   }\n",
    ")\n",
    "data_x=data.iloc[:,0:3]\n",
    "data_y=data.iloc[:,3]\n",
    "test_x=test.iloc[:,0:3]\n",
    "test_y=test.iloc[:,3]\n",
    "\n",
    "print(data)\n",
    "print(test)"
   ]
  },
  {
   "cell_type": "code",
   "execution_count": null,
   "metadata": {
    "id": "Mi2qB9IDr8JE"
   },
   "outputs": [],
   "source": [
    "\n",
    "\n",
    "random_forest = RandomForestClassifier(n_estimators=100, random_state=42,max_depth=10, min_samples_split=10, max_features=0.5)\n",
    "\n",
    "\n",
    "\n",
    "random_forest.fit(data_x, data_y)\n",
    "\n",
    "pickle.dump(random_forest, open('/content/drive/MyDrive/data.pkl', 'wb'))\n",
    "\n",
    "# load model\n",
    "# random_forest=pickle.load(open('/content/drive/MyDrive/data.pkl', 'rb'))\n",
    "\n",
    "# Dự đoán nhãn cho dữ liệu kiểm tra\n",
    "y_pred = random_forest.predict(test_x)\n",
    "\n",
    "accuracy = accuracy_score(test_y, y_pred)\n",
    "print(\"Accuracy:\", accuracy)\n",
    "\n",
    "\n",
    "y_predict=random_forest.predict(test_x.iloc[4].values.reshape(1, -1))\n",
    "print(\"Du doan \", y_predict)\n",
    "print(\"Thuc te \",test_y[4] )"
   ]
  }
 ],
 "metadata": {
  "accelerator": "GPU",
  "colab": {
   "provenance": []
  },
  "kernelspec": {
   "display_name": "Python 3",
   "name": "python3"
  },
  "language_info": {
   "name": "python"
  }
 },
 "nbformat": 4,
 "nbformat_minor": 0
}
